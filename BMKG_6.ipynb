{
  "cells": [
    {
      "cell_type": "code",
      "execution_count": 114,
      "metadata": {
        "_cell_guid": "b1076dfc-b9ad-4769-8c92-a6c4dae69d19",
        "_uuid": "8f2839f25d086af736a60e9eeb907d3b93b6e0e5",
        "execution": {
          "iopub.execute_input": "2021-12-31T14:35:19.728891Z",
          "iopub.status.busy": "2021-12-31T14:35:19.72849Z",
          "iopub.status.idle": "2021-12-31T14:35:19.738809Z",
          "shell.execute_reply": "2021-12-31T14:35:19.738166Z",
          "shell.execute_reply.started": "2021-12-31T14:35:19.728845Z"
        },
        "id": "7ZhkVgA2baKo"
      },
      "outputs": [],
      "source": [
        "import numpy as np # linear algebra\n",
        "import pandas as pd # data processing, CSV file I/O (e.g. pd.read_csv)"
      ]
    },
    {
      "cell_type": "code",
      "execution_count": 115,
      "metadata": {
        "execution": {
          "iopub.execute_input": "2021-12-31T14:35:19.741481Z",
          "iopub.status.busy": "2021-12-31T14:35:19.740367Z",
          "iopub.status.idle": "2021-12-31T14:35:19.76359Z",
          "shell.execute_reply": "2021-12-31T14:35:19.762935Z",
          "shell.execute_reply.started": "2021-12-31T14:35:19.741404Z"
        },
        "id": "LJ_8CnVKbaKv"
      },
      "outputs": [],
      "source": [
        "# Importing the libraries\n",
        "import matplotlib.pyplot as plt\n",
        "import datetime"
      ]
    },
    {
      "cell_type": "code",
      "source": [
        "from google.colab import drive\n",
        "drive.mount('/content/drive')"
      ],
      "metadata": {
        "colab": {
          "base_uri": "https://localhost:8080/"
        },
        "id": "Cymw4CA8gl68",
        "outputId": "8bd6d1bb-fb2d-488e-dbc7-ca11984fd9a7"
      },
      "execution_count": 116,
      "outputs": [
        {
          "output_type": "stream",
          "name": "stdout",
          "text": [
            "Drive already mounted at /content/drive; to attempt to forcibly remount, call drive.mount(\"/content/drive\", force_remount=True).\n"
          ]
        }
      ]
    },
    {
      "cell_type": "code",
      "source": [
        "!ls"
      ],
      "metadata": {
        "colab": {
          "base_uri": "https://localhost:8080/"
        },
        "id": "1vgzCp7Hibsu",
        "outputId": "d24cec95-a2dd-47ed-fc9e-bfe1e1b80c1e"
      },
      "execution_count": 117,
      "outputs": [
        {
          "output_type": "stream",
          "name": "stdout",
          "text": [
            "drive  my_model.h5  sample_data\n"
          ]
        }
      ]
    },
    {
      "cell_type": "code",
      "execution_count": 118,
      "metadata": {
        "execution": {
          "iopub.execute_input": "2021-12-31T14:35:19.765829Z",
          "iopub.status.busy": "2021-12-31T14:35:19.764785Z",
          "iopub.status.idle": "2021-12-31T14:35:19.862003Z",
          "shell.execute_reply": "2021-12-31T14:35:19.861007Z",
          "shell.execute_reply.started": "2021-12-31T14:35:19.76575Z"
        },
        "id": "WBG9Ca6VbaKw"
      },
      "outputs": [],
      "source": [
        "#ubah pathnya sesuai lokasi dataset \n",
        "dataset=pd.read_csv('drive/MyDrive/Python2022/DTS-MLT2/openweatherdata-denpasar-1990-2020.csv',index_col=\"dt_iso\",parse_dates=True)"
      ]
    },
    {
      "cell_type": "markdown",
      "metadata": {
        "id": "aPJdMEaXbxw7"
      },
      "source": [
        "##Explore Dataset"
      ]
    },
    {
      "cell_type": "code",
      "execution_count": 119,
      "metadata": {
        "colab": {
          "base_uri": "https://localhost:8080/",
          "height": 678
        },
        "execution": {
          "iopub.execute_input": "2021-12-31T14:35:19.863367Z",
          "iopub.status.busy": "2021-12-31T14:35:19.863122Z",
          "iopub.status.idle": "2021-12-31T14:35:19.8764Z",
          "shell.execute_reply": "2021-12-31T14:35:19.87561Z",
          "shell.execute_reply.started": "2021-12-31T14:35:19.863339Z"
        },
        "id": "f-GV5MmSbaKy",
        "outputId": "f5c2af6b-8707-48b0-d90b-ef8e49d85ed7"
      },
      "outputs": [
        {
          "output_type": "execute_result",
          "data": {
            "text/plain": [
              "                                      dt  timezone city_name       lat  \\\n",
              "dt_iso                                                                   \n",
              "1990-01-01 00:00:00 +0000 UTC  631152000     28800  Denpasar -8.652497   \n",
              "1990-01-01 01:00:00 +0000 UTC  631155600     28800  Denpasar -8.652497   \n",
              "1990-01-01 02:00:00 +0000 UTC  631159200     28800  Denpasar -8.652497   \n",
              "1990-01-01 03:00:00 +0000 UTC  631162800     28800  Denpasar -8.652497   \n",
              "1990-01-01 04:00:00 +0000 UTC  631166400     28800  Denpasar -8.652497   \n",
              "\n",
              "                                      lon   temp  temp_min  temp_max  \\\n",
              "dt_iso                                                                 \n",
              "1990-01-01 00:00:00 +0000 UTC  115.219117  25.82     25.82     25.82   \n",
              "1990-01-01 01:00:00 +0000 UTC  115.219117  26.20     26.20     26.20   \n",
              "1990-01-01 02:00:00 +0000 UTC  115.219117  26.45     26.45     26.45   \n",
              "1990-01-01 03:00:00 +0000 UTC  115.219117  26.80     26.80     26.80   \n",
              "1990-01-01 04:00:00 +0000 UTC  115.219117  27.04     27.04     27.04   \n",
              "\n",
              "                               pressure  sea_level  ...  snow_3h  snow_6h  \\\n",
              "dt_iso                                              ...                     \n",
              "1990-01-01 00:00:00 +0000 UTC    1010.0        NaN  ...      NaN      NaN   \n",
              "1990-01-01 01:00:00 +0000 UTC    1011.0        NaN  ...      NaN      NaN   \n",
              "1990-01-01 02:00:00 +0000 UTC    1011.0        NaN  ...      NaN      NaN   \n",
              "1990-01-01 03:00:00 +0000 UTC    1011.0        NaN  ...      NaN      NaN   \n",
              "1990-01-01 04:00:00 +0000 UTC    1010.0        NaN  ...      NaN      NaN   \n",
              "\n",
              "                               snow_12h  snow_24h  snow_today  clouds_all  \\\n",
              "dt_iso                                                                      \n",
              "1990-01-01 00:00:00 +0000 UTC       NaN       NaN         NaN          98   \n",
              "1990-01-01 01:00:00 +0000 UTC       NaN       NaN         NaN          91   \n",
              "1990-01-01 02:00:00 +0000 UTC       NaN       NaN         NaN          94   \n",
              "1990-01-01 03:00:00 +0000 UTC       NaN       NaN         NaN          94   \n",
              "1990-01-01 04:00:00 +0000 UTC       NaN       NaN         NaN          76   \n",
              "\n",
              "                               weather_id  weather_main  weather_description  \\\n",
              "dt_iso                                                                         \n",
              "1990-01-01 00:00:00 +0000 UTC         500          Rain           light rain   \n",
              "1990-01-01 01:00:00 +0000 UTC         500          Rain           light rain   \n",
              "1990-01-01 02:00:00 +0000 UTC         500          Rain           light rain   \n",
              "1990-01-01 03:00:00 +0000 UTC         500          Rain           light rain   \n",
              "1990-01-01 04:00:00 +0000 UTC         803        Clouds        broken clouds   \n",
              "\n",
              "                               weather_icon  \n",
              "dt_iso                                       \n",
              "1990-01-01 00:00:00 +0000 UTC           10d  \n",
              "1990-01-01 01:00:00 +0000 UTC           10d  \n",
              "1990-01-01 02:00:00 +0000 UTC           10d  \n",
              "1990-01-01 03:00:00 +0000 UTC           10d  \n",
              "1990-01-01 04:00:00 +0000 UTC           04d  \n",
              "\n",
              "[5 rows x 31 columns]"
            ],
            "text/html": [
              "\n",
              "  <div id=\"df-e4373cca-ee8d-4417-b7a7-999e4a03973c\">\n",
              "    <div class=\"colab-df-container\">\n",
              "      <div>\n",
              "<style scoped>\n",
              "    .dataframe tbody tr th:only-of-type {\n",
              "        vertical-align: middle;\n",
              "    }\n",
              "\n",
              "    .dataframe tbody tr th {\n",
              "        vertical-align: top;\n",
              "    }\n",
              "\n",
              "    .dataframe thead th {\n",
              "        text-align: right;\n",
              "    }\n",
              "</style>\n",
              "<table border=\"1\" class=\"dataframe\">\n",
              "  <thead>\n",
              "    <tr style=\"text-align: right;\">\n",
              "      <th></th>\n",
              "      <th>dt</th>\n",
              "      <th>timezone</th>\n",
              "      <th>city_name</th>\n",
              "      <th>lat</th>\n",
              "      <th>lon</th>\n",
              "      <th>temp</th>\n",
              "      <th>temp_min</th>\n",
              "      <th>temp_max</th>\n",
              "      <th>pressure</th>\n",
              "      <th>sea_level</th>\n",
              "      <th>...</th>\n",
              "      <th>snow_3h</th>\n",
              "      <th>snow_6h</th>\n",
              "      <th>snow_12h</th>\n",
              "      <th>snow_24h</th>\n",
              "      <th>snow_today</th>\n",
              "      <th>clouds_all</th>\n",
              "      <th>weather_id</th>\n",
              "      <th>weather_main</th>\n",
              "      <th>weather_description</th>\n",
              "      <th>weather_icon</th>\n",
              "    </tr>\n",
              "    <tr>\n",
              "      <th>dt_iso</th>\n",
              "      <th></th>\n",
              "      <th></th>\n",
              "      <th></th>\n",
              "      <th></th>\n",
              "      <th></th>\n",
              "      <th></th>\n",
              "      <th></th>\n",
              "      <th></th>\n",
              "      <th></th>\n",
              "      <th></th>\n",
              "      <th></th>\n",
              "      <th></th>\n",
              "      <th></th>\n",
              "      <th></th>\n",
              "      <th></th>\n",
              "      <th></th>\n",
              "      <th></th>\n",
              "      <th></th>\n",
              "      <th></th>\n",
              "      <th></th>\n",
              "      <th></th>\n",
              "    </tr>\n",
              "  </thead>\n",
              "  <tbody>\n",
              "    <tr>\n",
              "      <th>1990-01-01 00:00:00 +0000 UTC</th>\n",
              "      <td>631152000</td>\n",
              "      <td>28800</td>\n",
              "      <td>Denpasar</td>\n",
              "      <td>-8.652497</td>\n",
              "      <td>115.219117</td>\n",
              "      <td>25.82</td>\n",
              "      <td>25.82</td>\n",
              "      <td>25.82</td>\n",
              "      <td>1010.0</td>\n",
              "      <td>NaN</td>\n",
              "      <td>...</td>\n",
              "      <td>NaN</td>\n",
              "      <td>NaN</td>\n",
              "      <td>NaN</td>\n",
              "      <td>NaN</td>\n",
              "      <td>NaN</td>\n",
              "      <td>98</td>\n",
              "      <td>500</td>\n",
              "      <td>Rain</td>\n",
              "      <td>light rain</td>\n",
              "      <td>10d</td>\n",
              "    </tr>\n",
              "    <tr>\n",
              "      <th>1990-01-01 01:00:00 +0000 UTC</th>\n",
              "      <td>631155600</td>\n",
              "      <td>28800</td>\n",
              "      <td>Denpasar</td>\n",
              "      <td>-8.652497</td>\n",
              "      <td>115.219117</td>\n",
              "      <td>26.20</td>\n",
              "      <td>26.20</td>\n",
              "      <td>26.20</td>\n",
              "      <td>1011.0</td>\n",
              "      <td>NaN</td>\n",
              "      <td>...</td>\n",
              "      <td>NaN</td>\n",
              "      <td>NaN</td>\n",
              "      <td>NaN</td>\n",
              "      <td>NaN</td>\n",
              "      <td>NaN</td>\n",
              "      <td>91</td>\n",
              "      <td>500</td>\n",
              "      <td>Rain</td>\n",
              "      <td>light rain</td>\n",
              "      <td>10d</td>\n",
              "    </tr>\n",
              "    <tr>\n",
              "      <th>1990-01-01 02:00:00 +0000 UTC</th>\n",
              "      <td>631159200</td>\n",
              "      <td>28800</td>\n",
              "      <td>Denpasar</td>\n",
              "      <td>-8.652497</td>\n",
              "      <td>115.219117</td>\n",
              "      <td>26.45</td>\n",
              "      <td>26.45</td>\n",
              "      <td>26.45</td>\n",
              "      <td>1011.0</td>\n",
              "      <td>NaN</td>\n",
              "      <td>...</td>\n",
              "      <td>NaN</td>\n",
              "      <td>NaN</td>\n",
              "      <td>NaN</td>\n",
              "      <td>NaN</td>\n",
              "      <td>NaN</td>\n",
              "      <td>94</td>\n",
              "      <td>500</td>\n",
              "      <td>Rain</td>\n",
              "      <td>light rain</td>\n",
              "      <td>10d</td>\n",
              "    </tr>\n",
              "    <tr>\n",
              "      <th>1990-01-01 03:00:00 +0000 UTC</th>\n",
              "      <td>631162800</td>\n",
              "      <td>28800</td>\n",
              "      <td>Denpasar</td>\n",
              "      <td>-8.652497</td>\n",
              "      <td>115.219117</td>\n",
              "      <td>26.80</td>\n",
              "      <td>26.80</td>\n",
              "      <td>26.80</td>\n",
              "      <td>1011.0</td>\n",
              "      <td>NaN</td>\n",
              "      <td>...</td>\n",
              "      <td>NaN</td>\n",
              "      <td>NaN</td>\n",
              "      <td>NaN</td>\n",
              "      <td>NaN</td>\n",
              "      <td>NaN</td>\n",
              "      <td>94</td>\n",
              "      <td>500</td>\n",
              "      <td>Rain</td>\n",
              "      <td>light rain</td>\n",
              "      <td>10d</td>\n",
              "    </tr>\n",
              "    <tr>\n",
              "      <th>1990-01-01 04:00:00 +0000 UTC</th>\n",
              "      <td>631166400</td>\n",
              "      <td>28800</td>\n",
              "      <td>Denpasar</td>\n",
              "      <td>-8.652497</td>\n",
              "      <td>115.219117</td>\n",
              "      <td>27.04</td>\n",
              "      <td>27.04</td>\n",
              "      <td>27.04</td>\n",
              "      <td>1010.0</td>\n",
              "      <td>NaN</td>\n",
              "      <td>...</td>\n",
              "      <td>NaN</td>\n",
              "      <td>NaN</td>\n",
              "      <td>NaN</td>\n",
              "      <td>NaN</td>\n",
              "      <td>NaN</td>\n",
              "      <td>76</td>\n",
              "      <td>803</td>\n",
              "      <td>Clouds</td>\n",
              "      <td>broken clouds</td>\n",
              "      <td>04d</td>\n",
              "    </tr>\n",
              "  </tbody>\n",
              "</table>\n",
              "<p>5 rows × 31 columns</p>\n",
              "</div>\n",
              "      <button class=\"colab-df-convert\" onclick=\"convertToInteractive('df-e4373cca-ee8d-4417-b7a7-999e4a03973c')\"\n",
              "              title=\"Convert this dataframe to an interactive table.\"\n",
              "              style=\"display:none;\">\n",
              "        \n",
              "  <svg xmlns=\"http://www.w3.org/2000/svg\" height=\"24px\"viewBox=\"0 0 24 24\"\n",
              "       width=\"24px\">\n",
              "    <path d=\"M0 0h24v24H0V0z\" fill=\"none\"/>\n",
              "    <path d=\"M18.56 5.44l.94 2.06.94-2.06 2.06-.94-2.06-.94-.94-2.06-.94 2.06-2.06.94zm-11 1L8.5 8.5l.94-2.06 2.06-.94-2.06-.94L8.5 2.5l-.94 2.06-2.06.94zm10 10l.94 2.06.94-2.06 2.06-.94-2.06-.94-.94-2.06-.94 2.06-2.06.94z\"/><path d=\"M17.41 7.96l-1.37-1.37c-.4-.4-.92-.59-1.43-.59-.52 0-1.04.2-1.43.59L10.3 9.45l-7.72 7.72c-.78.78-.78 2.05 0 2.83L4 21.41c.39.39.9.59 1.41.59.51 0 1.02-.2 1.41-.59l7.78-7.78 2.81-2.81c.8-.78.8-2.07 0-2.86zM5.41 20L4 18.59l7.72-7.72 1.47 1.35L5.41 20z\"/>\n",
              "  </svg>\n",
              "      </button>\n",
              "      \n",
              "  <style>\n",
              "    .colab-df-container {\n",
              "      display:flex;\n",
              "      flex-wrap:wrap;\n",
              "      gap: 12px;\n",
              "    }\n",
              "\n",
              "    .colab-df-convert {\n",
              "      background-color: #E8F0FE;\n",
              "      border: none;\n",
              "      border-radius: 50%;\n",
              "      cursor: pointer;\n",
              "      display: none;\n",
              "      fill: #1967D2;\n",
              "      height: 32px;\n",
              "      padding: 0 0 0 0;\n",
              "      width: 32px;\n",
              "    }\n",
              "\n",
              "    .colab-df-convert:hover {\n",
              "      background-color: #E2EBFA;\n",
              "      box-shadow: 0px 1px 2px rgba(60, 64, 67, 0.3), 0px 1px 3px 1px rgba(60, 64, 67, 0.15);\n",
              "      fill: #174EA6;\n",
              "    }\n",
              "\n",
              "    [theme=dark] .colab-df-convert {\n",
              "      background-color: #3B4455;\n",
              "      fill: #D2E3FC;\n",
              "    }\n",
              "\n",
              "    [theme=dark] .colab-df-convert:hover {\n",
              "      background-color: #434B5C;\n",
              "      box-shadow: 0px 1px 3px 1px rgba(0, 0, 0, 0.15);\n",
              "      filter: drop-shadow(0px 1px 2px rgba(0, 0, 0, 0.3));\n",
              "      fill: #FFFFFF;\n",
              "    }\n",
              "  </style>\n",
              "\n",
              "      <script>\n",
              "        const buttonEl =\n",
              "          document.querySelector('#df-e4373cca-ee8d-4417-b7a7-999e4a03973c button.colab-df-convert');\n",
              "        buttonEl.style.display =\n",
              "          google.colab.kernel.accessAllowed ? 'block' : 'none';\n",
              "\n",
              "        async function convertToInteractive(key) {\n",
              "          const element = document.querySelector('#df-e4373cca-ee8d-4417-b7a7-999e4a03973c');\n",
              "          const dataTable =\n",
              "            await google.colab.kernel.invokeFunction('convertToInteractive',\n",
              "                                                     [key], {});\n",
              "          if (!dataTable) return;\n",
              "\n",
              "          const docLinkHtml = 'Like what you see? Visit the ' +\n",
              "            '<a target=\"_blank\" href=https://colab.research.google.com/notebooks/data_table.ipynb>data table notebook</a>'\n",
              "            + ' to learn more about interactive tables.';\n",
              "          element.innerHTML = '';\n",
              "          dataTable['output_type'] = 'display_data';\n",
              "          await google.colab.output.renderOutput(dataTable, element);\n",
              "          const docLink = document.createElement('div');\n",
              "          docLink.innerHTML = docLinkHtml;\n",
              "          element.appendChild(docLink);\n",
              "        }\n",
              "      </script>\n",
              "    </div>\n",
              "  </div>\n",
              "  "
            ]
          },
          "metadata": {},
          "execution_count": 119
        }
      ],
      "source": [
        "dataset.head()"
      ]
    },
    {
      "cell_type": "code",
      "execution_count": 120,
      "metadata": {
        "id": "YmaGXRBodrnG"
      },
      "outputs": [],
      "source": [
        "#ambil hanya yg curah hujan per jam saja\n",
        "dataset = dataset[['rain_1h']]"
      ]
    },
    {
      "cell_type": "code",
      "execution_count": 121,
      "metadata": {
        "colab": {
          "base_uri": "https://localhost:8080/",
          "height": 300
        },
        "execution": {
          "iopub.execute_input": "2021-12-31T14:35:19.878862Z",
          "iopub.status.busy": "2021-12-31T14:35:19.878285Z",
          "iopub.status.idle": "2021-12-31T14:35:19.899352Z",
          "shell.execute_reply": "2021-12-31T14:35:19.898493Z",
          "shell.execute_reply.started": "2021-12-31T14:35:19.878826Z"
        },
        "id": "s5BLuj3vbaKz",
        "outputId": "1e3eca6c-8e2d-477a-c778-89f9de4f3a5a"
      },
      "outputs": [
        {
          "output_type": "execute_result",
          "data": {
            "text/plain": [
              "            rain_1h\n",
              "count  16286.000000\n",
              "mean       0.470510\n",
              "std        0.677744\n",
              "min        0.000000\n",
              "25%        0.150000\n",
              "50%        0.240000\n",
              "75%        0.520000\n",
              "max       19.100000"
            ],
            "text/html": [
              "\n",
              "  <div id=\"df-91f340fb-8b1b-4ea8-8aa5-3be95b89231d\">\n",
              "    <div class=\"colab-df-container\">\n",
              "      <div>\n",
              "<style scoped>\n",
              "    .dataframe tbody tr th:only-of-type {\n",
              "        vertical-align: middle;\n",
              "    }\n",
              "\n",
              "    .dataframe tbody tr th {\n",
              "        vertical-align: top;\n",
              "    }\n",
              "\n",
              "    .dataframe thead th {\n",
              "        text-align: right;\n",
              "    }\n",
              "</style>\n",
              "<table border=\"1\" class=\"dataframe\">\n",
              "  <thead>\n",
              "    <tr style=\"text-align: right;\">\n",
              "      <th></th>\n",
              "      <th>rain_1h</th>\n",
              "    </tr>\n",
              "  </thead>\n",
              "  <tbody>\n",
              "    <tr>\n",
              "      <th>count</th>\n",
              "      <td>16286.000000</td>\n",
              "    </tr>\n",
              "    <tr>\n",
              "      <th>mean</th>\n",
              "      <td>0.470510</td>\n",
              "    </tr>\n",
              "    <tr>\n",
              "      <th>std</th>\n",
              "      <td>0.677744</td>\n",
              "    </tr>\n",
              "    <tr>\n",
              "      <th>min</th>\n",
              "      <td>0.000000</td>\n",
              "    </tr>\n",
              "    <tr>\n",
              "      <th>25%</th>\n",
              "      <td>0.150000</td>\n",
              "    </tr>\n",
              "    <tr>\n",
              "      <th>50%</th>\n",
              "      <td>0.240000</td>\n",
              "    </tr>\n",
              "    <tr>\n",
              "      <th>75%</th>\n",
              "      <td>0.520000</td>\n",
              "    </tr>\n",
              "    <tr>\n",
              "      <th>max</th>\n",
              "      <td>19.100000</td>\n",
              "    </tr>\n",
              "  </tbody>\n",
              "</table>\n",
              "</div>\n",
              "      <button class=\"colab-df-convert\" onclick=\"convertToInteractive('df-91f340fb-8b1b-4ea8-8aa5-3be95b89231d')\"\n",
              "              title=\"Convert this dataframe to an interactive table.\"\n",
              "              style=\"display:none;\">\n",
              "        \n",
              "  <svg xmlns=\"http://www.w3.org/2000/svg\" height=\"24px\"viewBox=\"0 0 24 24\"\n",
              "       width=\"24px\">\n",
              "    <path d=\"M0 0h24v24H0V0z\" fill=\"none\"/>\n",
              "    <path d=\"M18.56 5.44l.94 2.06.94-2.06 2.06-.94-2.06-.94-.94-2.06-.94 2.06-2.06.94zm-11 1L8.5 8.5l.94-2.06 2.06-.94-2.06-.94L8.5 2.5l-.94 2.06-2.06.94zm10 10l.94 2.06.94-2.06 2.06-.94-2.06-.94-.94-2.06-.94 2.06-2.06.94z\"/><path d=\"M17.41 7.96l-1.37-1.37c-.4-.4-.92-.59-1.43-.59-.52 0-1.04.2-1.43.59L10.3 9.45l-7.72 7.72c-.78.78-.78 2.05 0 2.83L4 21.41c.39.39.9.59 1.41.59.51 0 1.02-.2 1.41-.59l7.78-7.78 2.81-2.81c.8-.78.8-2.07 0-2.86zM5.41 20L4 18.59l7.72-7.72 1.47 1.35L5.41 20z\"/>\n",
              "  </svg>\n",
              "      </button>\n",
              "      \n",
              "  <style>\n",
              "    .colab-df-container {\n",
              "      display:flex;\n",
              "      flex-wrap:wrap;\n",
              "      gap: 12px;\n",
              "    }\n",
              "\n",
              "    .colab-df-convert {\n",
              "      background-color: #E8F0FE;\n",
              "      border: none;\n",
              "      border-radius: 50%;\n",
              "      cursor: pointer;\n",
              "      display: none;\n",
              "      fill: #1967D2;\n",
              "      height: 32px;\n",
              "      padding: 0 0 0 0;\n",
              "      width: 32px;\n",
              "    }\n",
              "\n",
              "    .colab-df-convert:hover {\n",
              "      background-color: #E2EBFA;\n",
              "      box-shadow: 0px 1px 2px rgba(60, 64, 67, 0.3), 0px 1px 3px 1px rgba(60, 64, 67, 0.15);\n",
              "      fill: #174EA6;\n",
              "    }\n",
              "\n",
              "    [theme=dark] .colab-df-convert {\n",
              "      background-color: #3B4455;\n",
              "      fill: #D2E3FC;\n",
              "    }\n",
              "\n",
              "    [theme=dark] .colab-df-convert:hover {\n",
              "      background-color: #434B5C;\n",
              "      box-shadow: 0px 1px 3px 1px rgba(0, 0, 0, 0.15);\n",
              "      filter: drop-shadow(0px 1px 2px rgba(0, 0, 0, 0.3));\n",
              "      fill: #FFFFFF;\n",
              "    }\n",
              "  </style>\n",
              "\n",
              "      <script>\n",
              "        const buttonEl =\n",
              "          document.querySelector('#df-91f340fb-8b1b-4ea8-8aa5-3be95b89231d button.colab-df-convert');\n",
              "        buttonEl.style.display =\n",
              "          google.colab.kernel.accessAllowed ? 'block' : 'none';\n",
              "\n",
              "        async function convertToInteractive(key) {\n",
              "          const element = document.querySelector('#df-91f340fb-8b1b-4ea8-8aa5-3be95b89231d');\n",
              "          const dataTable =\n",
              "            await google.colab.kernel.invokeFunction('convertToInteractive',\n",
              "                                                     [key], {});\n",
              "          if (!dataTable) return;\n",
              "\n",
              "          const docLinkHtml = 'Like what you see? Visit the ' +\n",
              "            '<a target=\"_blank\" href=https://colab.research.google.com/notebooks/data_table.ipynb>data table notebook</a>'\n",
              "            + ' to learn more about interactive tables.';\n",
              "          element.innerHTML = '';\n",
              "          dataTable['output_type'] = 'display_data';\n",
              "          await google.colab.output.renderOutput(dataTable, element);\n",
              "          const docLink = document.createElement('div');\n",
              "          docLink.innerHTML = docLinkHtml;\n",
              "          element.appendChild(docLink);\n",
              "        }\n",
              "      </script>\n",
              "    </div>\n",
              "  </div>\n",
              "  "
            ]
          },
          "metadata": {},
          "execution_count": 121
        }
      ],
      "source": [
        "#cek summary\n",
        "dataset.describe()"
      ]
    },
    {
      "cell_type": "code",
      "execution_count": 122,
      "metadata": {
        "colab": {
          "base_uri": "https://localhost:8080/",
          "height": 518
        },
        "id": "b_Z2-DDfdrnJ",
        "outputId": "b00f69b1-e4b0-42e7-f5c0-8c8d4ba70966"
      },
      "outputs": [
        {
          "output_type": "execute_result",
          "data": {
            "text/plain": [
              "<matplotlib.axes._subplots.AxesSubplot at 0x7f8209c554d0>"
            ]
          },
          "metadata": {},
          "execution_count": 122
        },
        {
          "output_type": "display_data",
          "data": {
            "text/plain": [
              "<Figure size 1440x576 with 1 Axes>"
            ],
            "image/png": "[encoded data removed]"
          },
          "metadata": {
            "needs_background": "light"
          }
        }
      ],
      "source": [
        "dataset.plot.line(figsize=(20,8))"
      ]
    },
    {
      "cell_type": "code",
      "execution_count": 123,
      "metadata": {
        "colab": {
          "base_uri": "https://localhost:8080/"
        },
        "execution": {
          "iopub.execute_input": "2021-12-31T14:35:19.900961Z",
          "iopub.status.busy": "2021-12-31T14:35:19.900501Z",
          "iopub.status.idle": "2021-12-31T14:35:19.914439Z",
          "shell.execute_reply": "2021-12-31T14:35:19.913649Z",
          "shell.execute_reply.started": "2021-12-31T14:35:19.900929Z"
        },
        "id": "UXDqjQJ8baK0",
        "outputId": "90095b4e-2109-48fa-b9ea-a8cb06b0d486"
      },
      "outputs": [
        {
          "output_type": "execute_result",
          "data": {
            "text/plain": [
              "248638"
            ]
          },
          "metadata": {},
          "execution_count": 123
        }
      ],
      "source": [
        "#cek Nan\n",
        "dataset.isnull().sum().sum()\n",
        "#ada 155980 nan"
      ]
    },
    {
      "cell_type": "code",
      "execution_count": 124,
      "metadata": {
        "colab": {
          "base_uri": "https://localhost:8080/"
        },
        "id": "DQFrySPwdrnO",
        "outputId": "aa649d88-f92e-403c-c5a2-78c21463ed19"
      },
      "outputs": [
        {
          "output_type": "execute_result",
          "data": {
            "text/plain": [
              "2"
            ]
          },
          "metadata": {},
          "execution_count": 124
        }
      ],
      "source": [
        "#cek nilai nol\n",
        "(dataset['rain_1h'] == 0).sum()"
      ]
    },
    {
      "cell_type": "code",
      "execution_count": 125,
      "metadata": {
        "id": "VSOxaYaYdrnP"
      },
      "outputs": [],
      "source": [
        "#Data Nan kita anggap sebagai / diganti dengan nol\n",
        "dataset['rain_1h'] = dataset['rain_1h'].fillna(0)"
      ]
    },
    {
      "cell_type": "code",
      "execution_count": 126,
      "metadata": {
        "colab": {
          "base_uri": "https://localhost:8080/",
          "height": 81
        },
        "execution": {
          "iopub.execute_input": "2021-12-31T14:35:19.91653Z",
          "iopub.status.busy": "2021-12-31T14:35:19.915449Z",
          "iopub.status.idle": "2021-12-31T14:35:19.930715Z",
          "shell.execute_reply": "2021-12-31T14:35:19.92974Z",
          "shell.execute_reply.started": "2021-12-31T14:35:19.91649Z"
        },
        "id": "_jIM9DtQbaK0",
        "outputId": "4e4de57a-a3f0-4e48-b513-b9fea66f50df"
      },
      "outputs": [
        {
          "output_type": "execute_result",
          "data": {
            "text/plain": [
              "Empty DataFrame\n",
              "Columns: [rain_1h]\n",
              "Index: []"
            ],
            "text/html": [
              "\n",
              "  <div id=\"df-25a6c39e-087f-4255-a859-a8b5b7e5f025\">\n",
              "    <div class=\"colab-df-container\">\n",
              "      <div>\n",
              "<style scoped>\n",
              "    .dataframe tbody tr th:only-of-type {\n",
              "        vertical-align: middle;\n",
              "    }\n",
              "\n",
              "    .dataframe tbody tr th {\n",
              "        vertical-align: top;\n",
              "    }\n",
              "\n",
              "    .dataframe thead th {\n",
              "        text-align: right;\n",
              "    }\n",
              "</style>\n",
              "<table border=\"1\" class=\"dataframe\">\n",
              "  <thead>\n",
              "    <tr style=\"text-align: right;\">\n",
              "      <th></th>\n",
              "      <th>rain_1h</th>\n",
              "    </tr>\n",
              "    <tr>\n",
              "      <th>dt_iso</th>\n",
              "      <th></th>\n",
              "    </tr>\n",
              "  </thead>\n",
              "  <tbody>\n",
              "  </tbody>\n",
              "</table>\n",
              "</div>\n",
              "      <button class=\"colab-df-convert\" onclick=\"convertToInteractive('df-25a6c39e-087f-4255-a859-a8b5b7e5f025')\"\n",
              "              title=\"Convert this dataframe to an interactive table.\"\n",
              "              style=\"display:none;\">\n",
              "        \n",
              "  <svg xmlns=\"http://www.w3.org/2000/svg\" height=\"24px\"viewBox=\"0 0 24 24\"\n",
              "       width=\"24px\">\n",
              "    <path d=\"M0 0h24v24H0V0z\" fill=\"none\"/>\n",
              "    <path d=\"M18.56 5.44l.94 2.06.94-2.06 2.06-.94-2.06-.94-.94-2.06-.94 2.06-2.06.94zm-11 1L8.5 8.5l.94-2.06 2.06-.94-2.06-.94L8.5 2.5l-.94 2.06-2.06.94zm10 10l.94 2.06.94-2.06 2.06-.94-2.06-.94-.94-2.06-.94 2.06-2.06.94z\"/><path d=\"M17.41 7.96l-1.37-1.37c-.4-.4-.92-.59-1.43-.59-.52 0-1.04.2-1.43.59L10.3 9.45l-7.72 7.72c-.78.78-.78 2.05 0 2.83L4 21.41c.39.39.9.59 1.41.59.51 0 1.02-.2 1.41-.59l7.78-7.78 2.81-2.81c.8-.78.8-2.07 0-2.86zM5.41 20L4 18.59l7.72-7.72 1.47 1.35L5.41 20z\"/>\n",
              "  </svg>\n",
              "      </button>\n",
              "      \n",
              "  <style>\n",
              "    .colab-df-container {\n",
              "      display:flex;\n",
              "      flex-wrap:wrap;\n",
              "      gap: 12px;\n",
              "    }\n",
              "\n",
              "    .colab-df-convert {\n",
              "      background-color: #E8F0FE;\n",
              "      border: none;\n",
              "      border-radius: 50%;\n",
              "      cursor: pointer;\n",
              "      display: none;\n",
              "      fill: #1967D2;\n",
              "      height: 32px;\n",
              "      padding: 0 0 0 0;\n",
              "      width: 32px;\n",
              "    }\n",
              "\n",
              "    .colab-df-convert:hover {\n",
              "      background-color: #E2EBFA;\n",
              "      box-shadow: 0px 1px 2px rgba(60, 64, 67, 0.3), 0px 1px 3px 1px rgba(60, 64, 67, 0.15);\n",
              "      fill: #174EA6;\n",
              "    }\n",
              "\n",
              "    [theme=dark] .colab-df-convert {\n",
              "      background-color: #3B4455;\n",
              "      fill: #D2E3FC;\n",
              "    }\n",
              "\n",
              "    [theme=dark] .colab-df-convert:hover {\n",
              "      background-color: #434B5C;\n",
              "      box-shadow: 0px 1px 3px 1px rgba(0, 0, 0, 0.15);\n",
              "      filter: drop-shadow(0px 1px 2px rgba(0, 0, 0, 0.3));\n",
              "      fill: #FFFFFF;\n",
              "    }\n",
              "  </style>\n",
              "\n",
              "      <script>\n",
              "        const buttonEl =\n",
              "          document.querySelector('#df-25a6c39e-087f-4255-a859-a8b5b7e5f025 button.colab-df-convert');\n",
              "        buttonEl.style.display =\n",
              "          google.colab.kernel.accessAllowed ? 'block' : 'none';\n",
              "\n",
              "        async function convertToInteractive(key) {\n",
              "          const element = document.querySelector('#df-25a6c39e-087f-4255-a859-a8b5b7e5f025');\n",
              "          const dataTable =\n",
              "            await google.colab.kernel.invokeFunction('convertToInteractive',\n",
              "                                                     [key], {});\n",
              "          if (!dataTable) return;\n",
              "\n",
              "          const docLinkHtml = 'Like what you see? Visit the ' +\n",
              "            '<a target=\"_blank\" href=https://colab.research.google.com/notebooks/data_table.ipynb>data table notebook</a>'\n",
              "            + ' to learn more about interactive tables.';\n",
              "          element.innerHTML = '';\n",
              "          dataTable['output_type'] = 'display_data';\n",
              "          await google.colab.output.renderOutput(dataTable, element);\n",
              "          const docLink = document.createElement('div');\n",
              "          docLink.innerHTML = docLinkHtml;\n",
              "          element.appendChild(docLink);\n",
              "        }\n",
              "      </script>\n",
              "    </div>\n",
              "  </div>\n",
              "  "
            ]
          },
          "metadata": {},
          "execution_count": 126
        }
      ],
      "source": [
        "#cek baris dg Nan\n",
        "dataset[dataset.isna().any(axis=1)]\n",
        "#sudah tidak ada"
      ]
    },
    {
      "cell_type": "markdown",
      "metadata": {
        "id": "kFgWjQfyb6QO"
      },
      "source": [
        "#Visualize"
      ]
    },
    {
      "cell_type": "code",
      "execution_count": 127,
      "metadata": {
        "colab": {
          "base_uri": "https://localhost:8080/",
          "height": 409
        },
        "execution": {
          "iopub.execute_input": "2021-12-31T14:35:19.994636Z",
          "iopub.status.busy": "2021-12-31T14:35:19.993529Z",
          "iopub.status.idle": "2021-12-31T14:35:20.351896Z",
          "shell.execute_reply": "2021-12-31T14:35:20.350821Z",
          "shell.execute_reply.started": "2021-12-31T14:35:19.994581Z"
        },
        "id": "_oHijB40baK3",
        "outputId": "80ca3609-dbb4-4a71-cd88-082c0840c064"
      },
      "outputs": [
        {
          "output_type": "execute_result",
          "data": {
            "text/plain": [
              "<matplotlib.axes._subplots.AxesSubplot at 0x7f81b8b05290>"
            ]
          },
          "metadata": {},
          "execution_count": 127
        },
        {
          "output_type": "display_data",
          "data": {
            "text/plain": [
              "<Figure size 1152x432 with 1 Axes>"
            ],
            "image/png": "[encoded data removed]"
          },
          "metadata": {
            "needs_background": "light"
          }
        }
      ],
      "source": [
        "dataset.plot(figsize=(16,6))"
      ]
    },
    {
      "cell_type": "code",
      "execution_count": 128,
      "metadata": {
        "colab": {
          "base_uri": "https://localhost:8080/"
        },
        "id": "JKCHDSstdrnS",
        "outputId": "3ffb2a4e-ce82-4b6d-d18b-f9fd6a83626b"
      },
      "outputs": [
        {
          "output_type": "execute_result",
          "data": {
            "text/plain": [
              "rain_1h    float64\n",
              "dtype: object"
            ]
          },
          "metadata": {},
          "execution_count": 128
        }
      ],
      "source": [
        "#cek tipe data\n",
        "dataset.dtypes"
      ]
    },
    {
      "cell_type": "code",
      "execution_count": 129,
      "metadata": {
        "colab": {
          "base_uri": "https://localhost:8080/",
          "height": 1000
        },
        "execution": {
          "iopub.execute_input": "2021-12-31T14:35:20.379299Z",
          "iopub.status.busy": "2021-12-31T14:35:20.379043Z",
          "iopub.status.idle": "2021-12-31T14:35:20.404864Z",
          "shell.execute_reply": "2021-12-31T14:35:20.404263Z",
          "shell.execute_reply.started": "2021-12-31T14:35:20.379269Z"
        },
        "id": "3GRnmEB0baK6",
        "outputId": "6b05114a-e4d4-4ac0-8450-af571ef3b4e1"
      },
      "outputs": [
        {
          "output_type": "execute_result",
          "data": {
            "text/plain": [
              "                                rain_1h\n",
              "dt_iso                                 \n",
              "1990-01-01 00:00:00 +0000 UTC       NaN\n",
              "1990-01-01 01:00:00 +0000 UTC       NaN\n",
              "1990-01-01 02:00:00 +0000 UTC       NaN\n",
              "1990-01-01 03:00:00 +0000 UTC       NaN\n",
              "1990-01-01 04:00:00 +0000 UTC       NaN\n",
              "1990-01-01 05:00:00 +0000 UTC       NaN\n",
              "1990-01-01 06:00:00 +0000 UTC       NaN\n",
              "1990-01-01 07:00:00 +0000 UTC       NaN\n",
              "1990-01-01 08:00:00 +0000 UTC       NaN\n",
              "1990-01-01 09:00:00 +0000 UTC       NaN\n",
              "1990-01-01 10:00:00 +0000 UTC       NaN\n",
              "1990-01-01 11:00:00 +0000 UTC       NaN\n",
              "1990-01-01 12:00:00 +0000 UTC       NaN\n",
              "1990-01-01 13:00:00 +0000 UTC       NaN\n",
              "1990-01-01 14:00:00 +0000 UTC       NaN\n",
              "1990-01-01 15:00:00 +0000 UTC       NaN\n",
              "1990-01-01 16:00:00 +0000 UTC       NaN\n",
              "1990-01-01 17:00:00 +0000 UTC       NaN\n",
              "1990-01-01 18:00:00 +0000 UTC       NaN\n",
              "1990-01-01 19:00:00 +0000 UTC       NaN\n",
              "1990-01-01 20:00:00 +0000 UTC       NaN\n",
              "1990-01-01 21:00:00 +0000 UTC       NaN\n",
              "1990-01-01 22:00:00 +0000 UTC       NaN\n",
              "1990-01-01 23:00:00 +0000 UTC  0.391667\n",
              "1990-01-02 00:00:00 +0000 UTC  0.417083\n",
              "1990-01-02 01:00:00 +0000 UTC  0.483333\n",
              "1990-01-02 02:00:00 +0000 UTC  0.540417\n",
              "1990-01-02 03:00:00 +0000 UTC  0.580417\n",
              "1990-01-02 04:00:00 +0000 UTC  0.637917\n",
              "1990-01-02 05:00:00 +0000 UTC  0.674583"
            ],
            "text/html": [
              "\n",
              "  <div id=\"df-36c959c4-99f3-4ba8-a6e1-6b9cebccf34f\">\n",
              "    <div class=\"colab-df-container\">\n",
              "      <div>\n",
              "<style scoped>\n",
              "    .dataframe tbody tr th:only-of-type {\n",
              "        vertical-align: middle;\n",
              "    }\n",
              "\n",
              "    .dataframe tbody tr th {\n",
              "        vertical-align: top;\n",
              "    }\n",
              "\n",
              "    .dataframe thead th {\n",
              "        text-align: right;\n",
              "    }\n",
              "</style>\n",
              "<table border=\"1\" class=\"dataframe\">\n",
              "  <thead>\n",
              "    <tr style=\"text-align: right;\">\n",
              "      <th></th>\n",
              "      <th>rain_1h</th>\n",
              "    </tr>\n",
              "    <tr>\n",
              "      <th>dt_iso</th>\n",
              "      <th></th>\n",
              "    </tr>\n",
              "  </thead>\n",
              "  <tbody>\n",
              "    <tr>\n",
              "      <th>1990-01-01 00:00:00 +0000 UTC</th>\n",
              "      <td>NaN</td>\n",
              "    </tr>\n",
              "    <tr>\n",
              "      <th>1990-01-01 01:00:00 +0000 UTC</th>\n",
              "      <td>NaN</td>\n",
              "    </tr>\n",
              "    <tr>\n",
              "      <th>1990-01-01 02:00:00 +0000 UTC</th>\n",
              "      <td>NaN</td>\n",
              "    </tr>\n",
              "    <tr>\n",
              "      <th>1990-01-01 03:00:00 +0000 UTC</th>\n",
              "      <td>NaN</td>\n",
              "    </tr>\n",
              "    <tr>\n",
              "      <th>1990-01-01 04:00:00 +0000 UTC</th>\n",
              "      <td>NaN</td>\n",
              "    </tr>\n",
              "    <tr>\n",
              "      <th>1990-01-01 05:00:00 +0000 UTC</th>\n",
              "      <td>NaN</td>\n",
              "    </tr>\n",
              "    <tr>\n",
              "      <th>1990-01-01 06:00:00 +0000 UTC</th>\n",
              "      <td>NaN</td>\n",
              "    </tr>\n",
              "    <tr>\n",
              "      <th>1990-01-01 07:00:00 +0000 UTC</th>\n",
              "      <td>NaN</td>\n",
              "    </tr>\n",
              "    <tr>\n",
              "      <th>1990-01-01 08:00:00 +0000 UTC</th>\n",
              "      <td>NaN</td>\n",
              "    </tr>\n",
              "    <tr>\n",
              "      <th>1990-01-01 09:00:00 +0000 UTC</th>\n",
              "      <td>NaN</td>\n",
              "    </tr>\n",
              "    <tr>\n",
              "      <th>1990-01-01 10:00:00 +0000 UTC</th>\n",
              "      <td>NaN</td>\n",
              "    </tr>\n",
              "    <tr>\n",
              "      <th>1990-01-01 11:00:00 +0000 UTC</th>\n",
              "      <td>NaN</td>\n",
              "    </tr>\n",
              "    <tr>\n",
              "      <th>1990-01-01 12:00:00 +0000 UTC</th>\n",
              "      <td>NaN</td>\n",
              "    </tr>\n",
              "    <tr>\n",
              "      <th>1990-01-01 13:00:00 +0000 UTC</th>\n",
              "      <td>NaN</td>\n",
              "    </tr>\n",
              "    <tr>\n",
              "      <th>1990-01-01 14:00:00 +0000 UTC</th>\n",
              "      <td>NaN</td>\n",
              "    </tr>\n",
              "    <tr>\n",
              "      <th>1990-01-01 15:00:00 +0000 UTC</th>\n",
              "      <td>NaN</td>\n",
              "    </tr>\n",
              "    <tr>\n",
              "      <th>1990-01-01 16:00:00 +0000 UTC</th>\n",
              "      <td>NaN</td>\n",
              "    </tr>\n",
              "    <tr>\n",
              "      <th>1990-01-01 17:00:00 +0000 UTC</th>\n",
              "      <td>NaN</td>\n",
              "    </tr>\n",
              "    <tr>\n",
              "      <th>1990-01-01 18:00:00 +0000 UTC</th>\n",
              "      <td>NaN</td>\n",
              "    </tr>\n",
              "    <tr>\n",
              "      <th>1990-01-01 19:00:00 +0000 UTC</th>\n",
              "      <td>NaN</td>\n",
              "    </tr>\n",
              "    <tr>\n",
              "      <th>1990-01-01 20:00:00 +0000 UTC</th>\n",
              "      <td>NaN</td>\n",
              "    </tr>\n",
              "    <tr>\n",
              "      <th>1990-01-01 21:00:00 +0000 UTC</th>\n",
              "      <td>NaN</td>\n",
              "    </tr>\n",
              "    <tr>\n",
              "      <th>1990-01-01 22:00:00 +0000 UTC</th>\n",
              "      <td>NaN</td>\n",
              "    </tr>\n",
              "    <tr>\n",
              "      <th>1990-01-01 23:00:00 +0000 UTC</th>\n",
              "      <td>0.391667</td>\n",
              "    </tr>\n",
              "    <tr>\n",
              "      <th>1990-01-02 00:00:00 +0000 UTC</th>\n",
              "      <td>0.417083</td>\n",
              "    </tr>\n",
              "    <tr>\n",
              "      <th>1990-01-02 01:00:00 +0000 UTC</th>\n",
              "      <td>0.483333</td>\n",
              "    </tr>\n",
              "    <tr>\n",
              "      <th>1990-01-02 02:00:00 +0000 UTC</th>\n",
              "      <td>0.540417</td>\n",
              "    </tr>\n",
              "    <tr>\n",
              "      <th>1990-01-02 03:00:00 +0000 UTC</th>\n",
              "      <td>0.580417</td>\n",
              "    </tr>\n",
              "    <tr>\n",
              "      <th>1990-01-02 04:00:00 +0000 UTC</th>\n",
              "      <td>0.637917</td>\n",
              "    </tr>\n",
              "    <tr>\n",
              "      <th>1990-01-02 05:00:00 +0000 UTC</th>\n",
              "      <td>0.674583</td>\n",
              "    </tr>\n",
              "  </tbody>\n",
              "</table>\n",
              "</div>\n",
              "      <button class=\"colab-df-convert\" onclick=\"convertToInteractive('df-36c959c4-99f3-4ba8-a6e1-6b9cebccf34f')\"\n",
              "              title=\"Convert this dataframe to an interactive table.\"\n",
              "              style=\"display:none;\">\n",
              "        \n",
              "  <svg xmlns=\"http://www.w3.org/2000/svg\" height=\"24px\"viewBox=\"0 0 24 24\"\n",
              "       width=\"24px\">\n",
              "    <path d=\"M0 0h24v24H0V0z\" fill=\"none\"/>\n",
              "    <path d=\"M18.56 5.44l.94 2.06.94-2.06 2.06-.94-2.06-.94-.94-2.06-.94 2.06-2.06.94zm-11 1L8.5 8.5l.94-2.06 2.06-.94-2.06-.94L8.5 2.5l-.94 2.06-2.06.94zm10 10l.94 2.06.94-2.06 2.06-.94-2.06-.94-.94-2.06-.94 2.06-2.06.94z\"/><path d=\"M17.41 7.96l-1.37-1.37c-.4-.4-.92-.59-1.43-.59-.52 0-1.04.2-1.43.59L10.3 9.45l-7.72 7.72c-.78.78-.78 2.05 0 2.83L4 21.41c.39.39.9.59 1.41.59.51 0 1.02-.2 1.41-.59l7.78-7.78 2.81-2.81c.8-.78.8-2.07 0-2.86zM5.41 20L4 18.59l7.72-7.72 1.47 1.35L5.41 20z\"/>\n",
              "  </svg>\n",
              "      </button>\n",
              "      \n",
              "  <style>\n",
              "    .colab-df-container {\n",
              "      display:flex;\n",
              "      flex-wrap:wrap;\n",
              "      gap: 12px;\n",
              "    }\n",
              "\n",
              "    .colab-df-convert {\n",
              "      background-color: #E8F0FE;\n",
              "      border: none;\n",
              "      border-radius: 50%;\n",
              "      cursor: pointer;\n",
              "      display: none;\n",
              "      fill: #1967D2;\n",
              "      height: 32px;\n",
              "      padding: 0 0 0 0;\n",
              "      width: 32px;\n",
              "    }\n",
              "\n",
              "    .colab-df-convert:hover {\n",
              "      background-color: #E2EBFA;\n",
              "      box-shadow: 0px 1px 2px rgba(60, 64, 67, 0.3), 0px 1px 3px 1px rgba(60, 64, 67, 0.15);\n",
              "      fill: #174EA6;\n",
              "    }\n",
              "\n",
              "    [theme=dark] .colab-df-convert {\n",
              "      background-color: #3B4455;\n",
              "      fill: #D2E3FC;\n",
              "    }\n",
              "\n",
              "    [theme=dark] .colab-df-convert:hover {\n",
              "      background-color: #434B5C;\n",
              "      box-shadow: 0px 1px 3px 1px rgba(0, 0, 0, 0.15);\n",
              "      filter: drop-shadow(0px 1px 2px rgba(0, 0, 0, 0.3));\n",
              "      fill: #FFFFFF;\n",
              "    }\n",
              "  </style>\n",
              "\n",
              "      <script>\n",
              "        const buttonEl =\n",
              "          document.querySelector('#df-36c959c4-99f3-4ba8-a6e1-6b9cebccf34f button.colab-df-convert');\n",
              "        buttonEl.style.display =\n",
              "          google.colab.kernel.accessAllowed ? 'block' : 'none';\n",
              "\n",
              "        async function convertToInteractive(key) {\n",
              "          const element = document.querySelector('#df-36c959c4-99f3-4ba8-a6e1-6b9cebccf34f');\n",
              "          const dataTable =\n",
              "            await google.colab.kernel.invokeFunction('convertToInteractive',\n",
              "                                                     [key], {});\n",
              "          if (!dataTable) return;\n",
              "\n",
              "          const docLinkHtml = 'Like what you see? Visit the ' +\n",
              "            '<a target=\"_blank\" href=https://colab.research.google.com/notebooks/data_table.ipynb>data table notebook</a>'\n",
              "            + ' to learn more about interactive tables.';\n",
              "          element.innerHTML = '';\n",
              "          dataTable['output_type'] = 'display_data';\n",
              "          await google.colab.output.renderOutput(dataTable, element);\n",
              "          const docLink = document.createElement('div');\n",
              "          docLink.innerHTML = docLinkHtml;\n",
              "          element.appendChild(docLink);\n",
              "        }\n",
              "      </script>\n",
              "    </div>\n",
              "  </div>\n",
              "  "
            ]
          },
          "metadata": {},
          "execution_count": 129
        }
      ],
      "source": [
        "# daily rolling mean\n",
        "dataset.rolling(24).mean().head(30)"
      ]
    },
    {
      "cell_type": "code",
      "execution_count": 130,
      "metadata": {
        "colab": {
          "base_uri": "https://localhost:8080/",
          "height": 409
        },
        "execution": {
          "iopub.execute_input": "2021-12-31T14:35:20.408342Z",
          "iopub.status.busy": "2021-12-31T14:35:20.407543Z",
          "iopub.status.idle": "2021-12-31T14:35:20.849476Z",
          "shell.execute_reply": "2021-12-31T14:35:20.848439Z",
          "shell.execute_reply.started": "2021-12-31T14:35:20.408302Z"
        },
        "id": "xPgfc4FxbaK6",
        "outputId": "8b7ca6db-11fe-4ff6-a0d1-cd885e184bc2"
      },
      "outputs": [
        {
          "output_type": "execute_result",
          "data": {
            "text/plain": [
              "<matplotlib.axes._subplots.AxesSubplot at 0x7f81b8291190>"
            ]
          },
          "metadata": {},
          "execution_count": 130
        },
        {
          "output_type": "display_data",
          "data": {
            "text/plain": [
              "<Figure size 1152x432 with 1 Axes>"
            ],
            "image/png": "[encoded data removed]"
          },
          "metadata": {
            "needs_background": "light"
          }
        }
      ],
      "source": [
        "dataset['rain_1h'].plot(figsize=(16,6))\n",
        "dataset.rolling(window=24).mean()['rain_1h'].plot()"
      ]
    },
    {
      "cell_type": "code",
      "execution_count": 131,
      "metadata": {
        "execution": {
          "iopub.execute_input": "2021-12-31T14:35:20.851572Z",
          "iopub.status.busy": "2021-12-31T14:35:20.850997Z",
          "iopub.status.idle": "2021-12-31T14:35:21.225759Z",
          "shell.execute_reply": "2021-12-31T14:35:21.224847Z",
          "shell.execute_reply.started": "2021-12-31T14:35:20.851526Z"
        },
        "id": "Wqy-0jTkbaK7"
      },
      "outputs": [],
      "source": [
        "#dataset['Rainfall: 24 Hours Mean'] = dataset['rain_1h'].rolling(window=24).mean()\n",
        "#dataset[['rain_1h','Rainfall: 24 Hours Mean']].plot(figsize=(16,6))"
      ]
    },
    {
      "cell_type": "code",
      "execution_count": 132,
      "metadata": {
        "id": "kZjpzC5hdrnV"
      },
      "outputs": [],
      "source": [
        "#divide data into train and test\n",
        "train_ind = int(len(dataset)*0.8)\n",
        "training_set = dataset[:train_ind]\n",
        "test_set = dataset[train_ind:]"
      ]
    },
    {
      "cell_type": "code",
      "execution_count": 133,
      "metadata": {
        "colab": {
          "base_uri": "https://localhost:8080/"
        },
        "id": "ckbq9aZOdrnW",
        "outputId": "9c968f1f-b35a-470a-9528-83b9c163184f"
      },
      "outputs": [
        {
          "output_type": "execute_result",
          "data": {
            "text/plain": [
              "211939"
            ]
          },
          "metadata": {},
          "execution_count": 133
        }
      ],
      "source": [
        "len(training_set)"
      ]
    },
    {
      "cell_type": "code",
      "execution_count": 134,
      "metadata": {
        "execution": {
          "iopub.execute_input": "2021-12-31T14:35:21.555935Z",
          "iopub.status.busy": "2021-12-31T14:35:21.555552Z",
          "iopub.status.idle": "2021-12-31T14:35:22.495594Z",
          "shell.execute_reply": "2021-12-31T14:35:22.494953Z",
          "shell.execute_reply.started": "2021-12-31T14:35:21.555892Z"
        },
        "id": "KfqmiFX0baK9"
      },
      "outputs": [],
      "source": [
        "# Feature Scaling\n",
        "from sklearn.preprocessing import MinMaxScaler\n",
        "sc = MinMaxScaler(feature_range = (0, 1))\n",
        "training_set_scaled = sc.fit_transform(training_set.values)"
      ]
    },
    {
      "cell_type": "code",
      "source": [
        "training_set"
      ],
      "metadata": {
        "colab": {
          "base_uri": "https://localhost:8080/",
          "height": 455
        },
        "id": "WQdUa-opXCT6",
        "outputId": "7439c1ed-d6df-40a0-edbb-92d8429e1db4"
      },
      "execution_count": 135,
      "outputs": [
        {
          "output_type": "execute_result",
          "data": {
            "text/plain": [
              "                               rain_1h\n",
              "dt_iso                                \n",
              "1990-01-01 00:00:00 +0000 UTC     0.49\n",
              "1990-01-01 01:00:00 +0000 UTC     0.13\n",
              "1990-01-01 02:00:00 +0000 UTC     0.24\n",
              "1990-01-01 03:00:00 +0000 UTC     0.23\n",
              "1990-01-01 04:00:00 +0000 UTC     0.00\n",
              "...                                ...\n",
              "2014-01-08 21:00:00 +0000 UTC     0.00\n",
              "2014-01-08 22:00:00 +0000 UTC     0.00\n",
              "2014-01-08 23:00:00 +0000 UTC     0.00\n",
              "2014-01-09 00:00:00 +0000 UTC     0.00\n",
              "2014-01-09 01:00:00 +0000 UTC     0.00\n",
              "\n",
              "[211939 rows x 1 columns]"
            ],
            "text/html": [
              "\n",
              "  <div id=\"df-71894f3f-35c9-4e68-aae1-0a19a2d29832\">\n",
              "    <div class=\"colab-df-container\">\n",
              "      <div>\n",
              "<style scoped>\n",
              "    .dataframe tbody tr th:only-of-type {\n",
              "        vertical-align: middle;\n",
              "    }\n",
              "\n",
              "    .dataframe tbody tr th {\n",
              "        vertical-align: top;\n",
              "    }\n",
              "\n",
              "    .dataframe thead th {\n",
              "        text-align: right;\n",
              "    }\n",
              "</style>\n",
              "<table border=\"1\" class=\"dataframe\">\n",
              "  <thead>\n",
              "    <tr style=\"text-align: right;\">\n",
              "      <th></th>\n",
              "      <th>rain_1h</th>\n",
              "    </tr>\n",
              "    <tr>\n",
              "      <th>dt_iso</th>\n",
              "      <th></th>\n",
              "    </tr>\n",
              "  </thead>\n",
              "  <tbody>\n",
              "    <tr>\n",
              "      <th>1990-01-01 00:00:00 +0000 UTC</th>\n",
              "      <td>0.49</td>\n",
              "    </tr>\n",
              "    <tr>\n",
              "      <th>1990-01-01 01:00:00 +0000 UTC</th>\n",
              "      <td>0.13</td>\n",
              "    </tr>\n",
              "    <tr>\n",
              "      <th>1990-01-01 02:00:00 +0000 UTC</th>\n",
              "      <td>0.24</td>\n",
              "    </tr>\n",
              "    <tr>\n",
              "      <th>1990-01-01 03:00:00 +0000 UTC</th>\n",
              "      <td>0.23</td>\n",
              "    </tr>\n",
              "    <tr>\n",
              "      <th>1990-01-01 04:00:00 +0000 UTC</th>\n",
              "      <td>0.00</td>\n",
              "    </tr>\n",
              "    <tr>\n",
              "      <th>...</th>\n",
              "      <td>...</td>\n",
              "    </tr>\n",
              "    <tr>\n",
              "      <th>2014-01-08 21:00:00 +0000 UTC</th>\n",
              "      <td>0.00</td>\n",
              "    </tr>\n",
              "    <tr>\n",
              "      <th>2014-01-08 22:00:00 +0000 UTC</th>\n",
              "      <td>0.00</td>\n",
              "    </tr>\n",
              "    <tr>\n",
              "      <th>2014-01-08 23:00:00 +0000 UTC</th>\n",
              "      <td>0.00</td>\n",
              "    </tr>\n",
              "    <tr>\n",
              "      <th>2014-01-09 00:00:00 +0000 UTC</th>\n",
              "      <td>0.00</td>\n",
              "    </tr>\n",
              "    <tr>\n",
              "      <th>2014-01-09 01:00:00 +0000 UTC</th>\n",
              "      <td>0.00</td>\n",
              "    </tr>\n",
              "  </tbody>\n",
              "</table>\n",
              "<p>211939 rows × 1 columns</p>\n",
              "</div>\n",
              "      <button class=\"colab-df-convert\" onclick=\"convertToInteractive('df-71894f3f-35c9-4e68-aae1-0a19a2d29832')\"\n",
              "              title=\"Convert this dataframe to an interactive table.\"\n",
              "              style=\"display:none;\">\n",
              "        \n",
              "  <svg xmlns=\"http://www.w3.org/2000/svg\" height=\"24px\"viewBox=\"0 0 24 24\"\n",
              "       width=\"24px\">\n",
              "    <path d=\"M0 0h24v24H0V0z\" fill=\"none\"/>\n",
              "    <path d=\"M18.56 5.44l.94 2.06.94-2.06 2.06-.94-2.06-.94-.94-2.06-.94 2.06-2.06.94zm-11 1L8.5 8.5l.94-2.06 2.06-.94-2.06-.94L8.5 2.5l-.94 2.06-2.06.94zm10 10l.94 2.06.94-2.06 2.06-.94-2.06-.94-.94-2.06-.94 2.06-2.06.94z\"/><path d=\"M17.41 7.96l-1.37-1.37c-.4-.4-.92-.59-1.43-.59-.52 0-1.04.2-1.43.59L10.3 9.45l-7.72 7.72c-.78.78-.78 2.05 0 2.83L4 21.41c.39.39.9.59 1.41.59.51 0 1.02-.2 1.41-.59l7.78-7.78 2.81-2.81c.8-.78.8-2.07 0-2.86zM5.41 20L4 18.59l7.72-7.72 1.47 1.35L5.41 20z\"/>\n",
              "  </svg>\n",
              "      </button>\n",
              "      \n",
              "  <style>\n",
              "    .colab-df-container {\n",
              "      display:flex;\n",
              "      flex-wrap:wrap;\n",
              "      gap: 12px;\n",
              "    }\n",
              "\n",
              "    .colab-df-convert {\n",
              "      background-color: #E8F0FE;\n",
              "      border: none;\n",
              "      border-radius: 50%;\n",
              "      cursor: pointer;\n",
              "      display: none;\n",
              "      fill: #1967D2;\n",
              "      height: 32px;\n",
              "      padding: 0 0 0 0;\n",
              "      width: 32px;\n",
              "    }\n",
              "\n",
              "    .colab-df-convert:hover {\n",
              "      background-color: #E2EBFA;\n",
              "      box-shadow: 0px 1px 2px rgba(60, 64, 67, 0.3), 0px 1px 3px 1px rgba(60, 64, 67, 0.15);\n",
              "      fill: #174EA6;\n",
              "    }\n",
              "\n",
              "    [theme=dark] .colab-df-convert {\n",
              "      background-color: #3B4455;\n",
              "      fill: #D2E3FC;\n",
              "    }\n",
              "\n",
              "    [theme=dark] .colab-df-convert:hover {\n",
              "      background-color: #434B5C;\n",
              "      box-shadow: 0px 1px 3px 1px rgba(0, 0, 0, 0.15);\n",
              "      filter: drop-shadow(0px 1px 2px rgba(0, 0, 0, 0.3));\n",
              "      fill: #FFFFFF;\n",
              "    }\n",
              "  </style>\n",
              "\n",
              "      <script>\n",
              "        const buttonEl =\n",
              "          document.querySelector('#df-71894f3f-35c9-4e68-aae1-0a19a2d29832 button.colab-df-convert');\n",
              "        buttonEl.style.display =\n",
              "          google.colab.kernel.accessAllowed ? 'block' : 'none';\n",
              "\n",
              "        async function convertToInteractive(key) {\n",
              "          const element = document.querySelector('#df-71894f3f-35c9-4e68-aae1-0a19a2d29832');\n",
              "          const dataTable =\n",
              "            await google.colab.kernel.invokeFunction('convertToInteractive',\n",
              "                                                     [key], {});\n",
              "          if (!dataTable) return;\n",
              "\n",
              "          const docLinkHtml = 'Like what you see? Visit the ' +\n",
              "            '<a target=\"_blank\" href=https://colab.research.google.com/notebooks/data_table.ipynb>data table notebook</a>'\n",
              "            + ' to learn more about interactive tables.';\n",
              "          element.innerHTML = '';\n",
              "          dataTable['output_type'] = 'display_data';\n",
              "          await google.colab.output.renderOutput(dataTable, element);\n",
              "          const docLink = document.createElement('div');\n",
              "          docLink.innerHTML = docLinkHtml;\n",
              "          element.appendChild(docLink);\n",
              "        }\n",
              "      </script>\n",
              "    </div>\n",
              "  </div>\n",
              "  "
            ]
          },
          "metadata": {},
          "execution_count": 135
        }
      ]
    },
    {
      "cell_type": "code",
      "source": [
        "import sklearn\n",
        "print('The scikit-learn version is {}.'.format(sklearn.__version__))"
      ],
      "metadata": {
        "colab": {
          "base_uri": "https://localhost:8080/"
        },
        "id": "eeOc_oTeuf6L",
        "outputId": "1c9b4189-389c-4993-ccd8-bed263400949"
      },
      "execution_count": 136,
      "outputs": [
        {
          "output_type": "stream",
          "name": "stdout",
          "text": [
            "The scikit-learn version is 1.0.2.\n"
          ]
        }
      ]
    },
    {
      "cell_type": "code",
      "execution_count": 137,
      "metadata": {
        "execution": {
          "iopub.execute_input": "2021-12-31T14:35:22.497639Z",
          "iopub.status.busy": "2021-12-31T14:35:22.497115Z",
          "iopub.status.idle": "2021-12-31T14:35:22.509968Z",
          "shell.execute_reply": "2021-12-31T14:35:22.509249Z",
          "shell.execute_reply.started": "2021-12-31T14:35:22.497594Z"
        },
        "id": "j3dxNWPwbaK9"
      },
      "outputs": [],
      "source": [
        "# Creating a data structure with 48 timesteps and 1 output\n",
        "X_train = []\n",
        "y_train = []\n",
        "for i in range(48, len(training_set)):\n",
        "    X_train.append(training_set_scaled[i-48:i, 0])\n",
        "    y_train.append(training_set_scaled[i, 0])\n",
        "X_train, y_train = np.array(X_train), np.array(y_train)\n",
        "\n",
        "# Reshaping\n",
        "X_train = np.reshape(X_train, (X_train.shape[0], X_train.shape[1], 1))"
      ]
    },
    {
      "cell_type": "code",
      "execution_count": 138,
      "metadata": {
        "execution": {
          "iopub.execute_input": "2021-12-31T14:35:22.512079Z",
          "iopub.status.busy": "2021-12-31T14:35:22.511505Z",
          "iopub.status.idle": "2021-12-31T14:35:28.797887Z",
          "shell.execute_reply": "2021-12-31T14:35:28.79709Z",
          "shell.execute_reply.started": "2021-12-31T14:35:22.512038Z"
        },
        "id": "FUFcQ8PhbaK9"
      },
      "outputs": [],
      "source": [
        "#Building the RNN\n",
        "#Importing the Keras libraries and packages\n",
        "#from tensorflow import keras\n",
        "from keras.models import Sequential\n",
        "from keras.layers import Dense\n",
        "from keras.layers import LSTM\n",
        "from keras.layers import Dropout"
      ]
    },
    {
      "cell_type": "code",
      "execution_count": 139,
      "metadata": {
        "execution": {
          "iopub.execute_input": "2021-12-31T14:35:28.799682Z",
          "iopub.status.busy": "2021-12-31T14:35:28.799087Z",
          "iopub.status.idle": "2021-12-31T14:35:28.861168Z",
          "shell.execute_reply": "2021-12-31T14:35:28.860423Z",
          "shell.execute_reply.started": "2021-12-31T14:35:28.79965Z"
        },
        "id": "DSGMiaJKbaK-"
      },
      "outputs": [],
      "source": [
        "# Initialising the RNN\n",
        "model = Sequential()"
      ]
    },
    {
      "cell_type": "code",
      "execution_count": 140,
      "metadata": {
        "execution": {
          "iopub.execute_input": "2021-12-31T14:35:28.863248Z",
          "iopub.status.busy": "2021-12-31T14:35:28.862832Z",
          "iopub.status.idle": "2021-12-31T14:35:29.951789Z",
          "shell.execute_reply": "2021-12-31T14:35:29.950751Z",
          "shell.execute_reply.started": "2021-12-31T14:35:28.863209Z"
        },
        "id": "LZ34x4R-baK-"
      },
      "outputs": [],
      "source": [
        "#Adding the first LSTM layer and some Dropout regularisation\n",
        "model.add(LSTM(units = 50, return_sequences = True, input_shape = (X_train.shape[1], 1)))\n",
        "model.add(Dropout(0.2))# Adding a second LSTM layer and some Dropout regularisation\n",
        "model.add(LSTM(units = 50, return_sequences = True))\n",
        "model.add(Dropout(0.2))# Adding a third LSTM layer and some Dropout regularisation\n",
        "model.add(LSTM(units = 50, return_sequences = True))\n",
        "model.add(Dropout(0.2))# Adding a fourth LSTM layer and some Dropout regularisation\n",
        "model.add(LSTM(units = 50))\n",
        "model.add(Dropout(0.2))# Adding the output layer\n",
        "model.add(Dense(units = 1))\n"
      ]
    },
    {
      "cell_type": "code",
      "execution_count": 141,
      "metadata": {
        "id": "rTVMT3NCc441"
      },
      "outputs": [],
      "source": [
        "# Compiling the RNN\n",
        "model.compile(optimizer = 'adam', loss = 'mean_squared_error')"
      ]
    },
    {
      "cell_type": "code",
      "execution_count": 142,
      "metadata": {
        "colab": {
          "base_uri": "https://localhost:8080/"
        },
        "execution": {
          "iopub.execute_input": "2021-12-31T14:35:29.953386Z",
          "iopub.status.busy": "2021-12-31T14:35:29.953114Z",
          "iopub.status.idle": "2021-12-31T14:48:14.913309Z",
          "shell.execute_reply": "2021-12-31T14:48:14.912451Z",
          "shell.execute_reply.started": "2021-12-31T14:35:29.953352Z"
        },
        "id": "bdeEsdyMbaK_",
        "outputId": "1c68c8ee-6edd-4bb9-f8f0-406301748714"
      },
      "outputs": [
        {
          "output_type": "stream",
          "name": "stdout",
          "text": [
            "Epoch 1/6\n",
            "6622/6622 [==============================] - 90s 13ms/step - loss: 1.1840e-04\n",
            "Epoch 2/6\n",
            "6622/6622 [==============================] - 83s 13ms/step - loss: 1.1165e-04\n",
            "Epoch 3/6\n",
            "6622/6622 [==============================] - 83s 13ms/step - loss: 1.1029e-04\n",
            "Epoch 4/6\n",
            "6622/6622 [==============================] - 83s 13ms/step - loss: 1.0911e-04\n",
            "Epoch 5/6\n",
            "6622/6622 [==============================] - 82s 12ms/step - loss: 1.1013e-04\n",
            "Epoch 6/6\n",
            "6622/6622 [==============================] - 83s 12ms/step - loss: 1.0818e-04\n"
          ]
        },
        {
          "output_type": "execute_result",
          "data": {
            "text/plain": [
              "<keras.callbacks.History at 0x7f81a5611b90>"
            ]
          },
          "metadata": {},
          "execution_count": 142
        }
      ],
      "source": [
        "#Jangan lupa ganti ke GPU. 10 epoch = 15 menit.\n",
        "# Fitting the RNN to the Training set\n",
        "epoch = 6\n",
        "batch_size = 32\n",
        "model.fit(X_train, y_train, epochs = epoch, batch_size = batch_size)"
      ]
    },
    {
      "cell_type": "code",
      "source": [
        "model.save('my_model.h5') "
      ],
      "metadata": {
        "id": "bFYT3ZTy3aJd"
      },
      "execution_count": 143,
      "outputs": []
    },
    {
      "cell_type": "code",
      "source": [
        "from keras.models import load_model"
      ],
      "metadata": {
        "id": "BZst9LjxN5Ok"
      },
      "execution_count": 144,
      "outputs": []
    },
    {
      "cell_type": "code",
      "source": [
        "#model = load_model('drive/MyDrive/Python2022/DTS-MLT2/my_model.h5')"
      ],
      "metadata": {
        "id": "rYyDTPe7NSpq"
      },
      "execution_count": 145,
      "outputs": []
    },
    {
      "cell_type": "code",
      "execution_count": 146,
      "metadata": {
        "execution": {
          "iopub.execute_input": "2021-12-31T14:48:14.915089Z",
          "iopub.status.busy": "2021-12-31T14:48:14.914787Z",
          "iopub.status.idle": "2021-12-31T14:48:14.933152Z",
          "shell.execute_reply": "2021-12-31T14:48:14.932433Z",
          "shell.execute_reply.started": "2021-12-31T14:48:14.915056Z"
        },
        "id": "YY1jzgAJbaK_"
      },
      "outputs": [],
      "source": [
        "# Making the predictions and visualising the results\n",
        "real_hourly_rf = test_set.values"
      ]
    },
    {
      "cell_type": "code",
      "source": [
        "real_hourly_rf"
      ],
      "metadata": {
        "colab": {
          "base_uri": "https://localhost:8080/"
        },
        "id": "gz654Mswm0g7",
        "outputId": "5f777919-f15e-4423-e13c-e4e5dfd9bcff"
      },
      "execution_count": 147,
      "outputs": [
        {
          "output_type": "execute_result",
          "data": {
            "text/plain": [
              "array([[0.],\n",
              "       [0.],\n",
              "       [0.],\n",
              "       ...,\n",
              "       [0.],\n",
              "       [0.],\n",
              "       [0.]])"
            ]
          },
          "metadata": {},
          "execution_count": 147
        }
      ]
    },
    {
      "cell_type": "code",
      "execution_count": 148,
      "metadata": {
        "colab": {
          "base_uri": "https://localhost:8080/"
        },
        "execution": {
          "iopub.execute_input": "2021-12-31T14:48:15.01964Z",
          "iopub.status.busy": "2021-12-31T14:48:15.019256Z",
          "iopub.status.idle": "2021-12-31T14:48:15.036609Z",
          "shell.execute_reply": "2021-12-31T14:48:15.035924Z",
          "shell.execute_reply.started": "2021-12-31T14:48:15.019605Z"
        },
        "id": "PcruOHHqbaLB",
        "outputId": "f3247038-38d5-49f5-af2f-ec47d3ee6b6e"
      },
      "outputs": [
        {
          "output_type": "stream",
          "name": "stdout",
          "text": [
            "<class 'pandas.core.frame.DataFrame'>\n",
            "Index: 52985 entries, 2014-01-09 02:00:00 +0000 UTC to 2020-01-07 23:00:00 +0000 UTC\n",
            "Data columns (total 1 columns):\n",
            " #   Column   Non-Null Count  Dtype  \n",
            "---  ------   --------------  -----  \n",
            " 0   rain_1h  52985 non-null  float64\n",
            "dtypes: float64(1)\n",
            "memory usage: 827.9+ KB\n"
          ]
        }
      ],
      "source": [
        "test_set.info()"
      ]
    },
    {
      "cell_type": "code",
      "execution_count": 149,
      "metadata": {
        "execution": {
          "iopub.execute_input": "2021-12-31T14:48:15.038737Z",
          "iopub.status.busy": "2021-12-31T14:48:15.038307Z",
          "iopub.status.idle": "2021-12-31T14:48:16.799857Z",
          "shell.execute_reply": "2021-12-31T14:48:16.799182Z",
          "shell.execute_reply.started": "2021-12-31T14:48:15.038704Z"
        },
        "id": "WKSGk59LbaLC"
      },
      "outputs": [],
      "source": [
        "# Getting the predicted value\n",
        "dataset_total = pd.concat((training_set['rain_1h'], test_set['rain_1h']), axis = 0)\n",
        "inputs = dataset_total[len(dataset_total) - len(test_set) - 48:].values\n",
        "inputs = inputs.reshape(-1,1)\n",
        "inputs = sc.transform(inputs)\n",
        "X_test = []\n",
        "for i in range(48, len(test_set)):\n",
        "    X_test.append(inputs[i-48:i, 0])\n",
        "X_test = np.array(X_test)\n",
        "X_test = np.reshape(X_test, (X_test.shape[0], X_test.shape[1], 1))\n",
        "predicted_hourly_rf = model.predict(X_test)\n",
        "predicted_hourly_rf = sc.inverse_transform(predicted_hourly_rf)"
      ]
    },
    {
      "cell_type": "code",
      "execution_count": 150,
      "metadata": {
        "execution": {
          "iopub.execute_input": "2021-12-31T14:48:16.801787Z",
          "iopub.status.busy": "2021-12-31T14:48:16.801357Z",
          "iopub.status.idle": "2021-12-31T14:48:16.813977Z",
          "shell.execute_reply": "2021-12-31T14:48:16.812756Z",
          "shell.execute_reply.started": "2021-12-31T14:48:16.801755Z"
        },
        "id": "KBDqv8A9baLC",
        "colab": {
          "base_uri": "https://localhost:8080/"
        },
        "outputId": "37655b7e-569e-4406-83c9-c5136324af27"
      },
      "outputs": [
        {
          "output_type": "stream",
          "name": "stdout",
          "text": [
            "<class 'pandas.core.frame.DataFrame'>\n",
            "RangeIndex: 52937 entries, 0 to 52936\n",
            "Data columns (total 1 columns):\n",
            " #   Column  Non-Null Count  Dtype  \n",
            "---  ------  --------------  -----  \n",
            " 0   0       52937 non-null  float32\n",
            "dtypes: float32(1)\n",
            "memory usage: 206.9 KB\n"
          ]
        }
      ],
      "source": [
        "predicted_hourly_rf=pd.DataFrame(predicted_hourly_rf)\n",
        "predicted_hourly_rf.info()"
      ]
    },
    {
      "cell_type": "code",
      "execution_count": 159,
      "metadata": {
        "execution": {
          "iopub.execute_input": "2021-12-31T14:48:16.817608Z",
          "iopub.status.busy": "2021-12-31T14:48:16.81709Z",
          "iopub.status.idle": "2021-12-31T14:48:17.101431Z",
          "shell.execute_reply": "2021-12-31T14:48:17.100372Z",
          "shell.execute_reply.started": "2021-12-31T14:48:16.817559Z"
        },
        "id": "eDZyX3IybaLC",
        "colab": {
          "base_uri": "https://localhost:8080/",
          "height": 513
        },
        "outputId": "92d1b531-4f5d-400c-b64e-afc28d5ad3be"
      },
      "outputs": [
        {
          "output_type": "display_data",
          "data": {
            "text/plain": [
              "<Figure size 1440x576 with 1 Axes>"
            ],
            "image/png": "[encoded data removed]"
          },
          "metadata": {
            "needs_background": "light"
          }
        }
      ],
      "source": [
        "# Visualising the results\n",
        "plt.rcParams[\"figure.figsize\"] = (20,8)\n",
        "plt.plot(real_hourly_rf, color = 'red', label = 'Real Hourly Rainfall')\n",
        "plt.plot(predicted_hourly_rf, color = 'blue', label = 'Predicted Hourly Rainfall')\n",
        "plt.title('Denpasar Hourly Rainfall Prediction')\n",
        "plt.xlabel('Time')\n",
        "plt.ylabel('Hourly Rainfall')\n",
        "plt.legend()\n",
        "plt.show()"
      ]
    },
    {
      "cell_type": "code",
      "source": [
        "len(real_hourly_rf[48:])\n",
        "rhr2 = real_hourly_rf[48:]\n",
        "#predicted_hourly_rf"
      ],
      "metadata": {
        "id": "rBjYIl5MZXWd"
      },
      "execution_count": 152,
      "outputs": []
    },
    {
      "cell_type": "code",
      "source": [
        "from sklearn.metrics import mean_absolute_error as mae\n",
        "\n",
        "#calculate MAE\n",
        "mae(rhr2, predicted_hourly_rf)"
      ],
      "metadata": {
        "colab": {
          "base_uri": "https://localhost:8080/"
        },
        "id": "_KJxXzQYYpGc",
        "outputId": "a9b97540-c711-49b1-9089-cfdc1ee01a6c"
      },
      "execution_count": 153,
      "outputs": [
        {
          "output_type": "execute_result",
          "data": {
            "text/plain": [
              "0.04292698517222188"
            ]
          },
          "metadata": {},
          "execution_count": 153
        }
      ]
    },
    {
      "cell_type": "code",
      "source": [
        "#dapat mengikuti naik turun, tapi naiknya kurang naik, dan turunnya kurang dekat ke nol"
      ],
      "metadata": {
        "id": "l53S9RbVc1zS"
      },
      "execution_count": 160,
      "outputs": []
    }
  ],
  "metadata": {
    "colab": {
      "collapsed_sections": [],
      "name": "BMKG_6.ipynb",
      "provenance": []
    },
    "kernelspec": {
      "display_name": "Python 3",
      "language": "python",
      "name": "python3"
    },
    "language_info": {
      "codemirror_mode": {
        "name": "ipython",
        "version": 3
      },
      "file_extension": ".py",
      "mimetype": "text/x-python",
      "name": "python",
      "nbconvert_exporter": "python",
      "pygments_lexer": "ipython3",
      "version": "3.8.3"
    },
    "accelerator": "GPU",
    "gpuClass": "standard"
  },
  "nbformat": 4,
  "nbformat_minor": 0
}